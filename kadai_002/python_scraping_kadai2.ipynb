{
  "nbformat": 4,
  "nbformat_minor": 0,
  "metadata": {
    "colab": {
      "provenance": []
    },
    "kernelspec": {
      "name": "python3",
      "display_name": "Python 3"
    },
    "language_info": {
      "name": "python"
    }
  },
  "cells": [
    {
      "cell_type": "code",
      "source": [
        "!pip install requests\n"
      ],
      "metadata": {
        "colab": {
          "base_uri": "https://localhost:8080/"
        },
        "id": "alGI7gp5BhnO",
        "outputId": "766a78bb-3741-462d-a114-208fe72f2bbb"
      },
      "execution_count": 27,
      "outputs": [
        {
          "output_type": "stream",
          "name": "stdout",
          "text": [
            "Requirement already satisfied: requests in /usr/local/lib/python3.10/dist-packages (2.27.1)\n",
            "Requirement already satisfied: urllib3<1.27,>=1.21.1 in /usr/local/lib/python3.10/dist-packages (from requests) (1.26.16)\n",
            "Requirement already satisfied: certifi>=2017.4.17 in /usr/local/lib/python3.10/dist-packages (from requests) (2023.7.22)\n",
            "Requirement already satisfied: charset-normalizer~=2.0.0 in /usr/local/lib/python3.10/dist-packages (from requests) (2.0.12)\n",
            "Requirement already satisfied: idna<4,>=2.5 in /usr/local/lib/python3.10/dist-packages (from requests) (3.4)\n"
          ]
        }
      ]
    },
    {
      "cell_type": "code",
      "execution_count": 11,
      "metadata": {
        "colab": {
          "base_uri": "https://localhost:8080/"
        },
        "id": "9d9iKTpRZElw",
        "outputId": "5b4cfb3d-16f6-4e65-8f11-2a2fbba034f3"
      },
      "outputs": [
        {
          "output_type": "stream",
          "name": "stdout",
          "text": [
            "APIキーを入力してください: ··········\n",
            "検索する駅名を入力してください: 金沢駅\n",
            "ANAクラウンプラザホテル金沢 日本料理 雲海/☆4.4/金沢市昭和町１６−３\n",
            "ANAクラウンプラザホテル金沢 カスケイド ダイニング＆ラウンジ/☆4/金沢市昭和町１６−３\n",
            "料理旅館 金沢茶屋/☆4.3/金沢市本町２丁目１７−２１\n",
            "ANAクラウンプラザホテル金沢 中国料理 花梨/☆4.1/金沢市昭和町１６−３\n",
            "テーブル ナナ/☆3.9/金沢市堀川町５−４\n",
            "ゴーゴーカレー 金沢駅総本山/☆4/金沢市木ノ新保町１−１ 金沢百番街あんと内\n",
            "ANAクラウンプラザホテル金沢 鉄板焼 加賀/☆4.4/金沢市昭和町１６−３ ANAクラウンプラザホテル金沢 19F\n",
            "幸せのパンケーキ 金沢 FORUS店/☆4.1/金沢市堀川新町３−１ ６Ｆ\n",
            "白山そば 金沢百番街店/☆3.8/金沢市木ノ新保町１−１\n",
            "スターバックス コーヒー 金沢フォーラス6階クーゴ店/☆3.9/金沢市堀川新町３−１ 6F\n",
            "小松 弥助/☆4.7/金沢市本町２丁目１７−２１\n",
            "ANAクラウンプラザ ビアテラス/☆4/金沢市昭和町１６−３\n",
            "鮨 歴々 金沢駅店/☆3.8/金沢市木ノ新保町木ノ新保町１−１\n",
            "日本料理 加賀屋 金沢店/☆4.2/金沢市木ノ新保町１−１−１\n",
            "串揚げ いやさか 金沢六枚店/☆4.1/金沢市本町２丁目７−１\n",
            "鹿児島県霧島市 塚田農場 金沢駅西口店/☆4.1/金沢市広岡１丁目９−１６ マストスクエア金沢\n",
            "町家懐石 六花/☆4.4/金沢市六枚町２−７\n",
            "カフェぶどうの森 ファーム金沢百番街店/☆3.7/金沢市広岡１丁目１−１ JR金沢駅百番街あんと西１階\n",
            "金沢回転寿司 輝らり/☆3.8/金沢市広岡１丁目９−１６ マストスクエア金沢 １階\n",
            "イタリアンカフェぶどうの森 金沢フォーラス店/☆3.8/金沢市堀川新町３−１ ６階\n"
          ]
        }
      ],
      "source": [
        "import requests\n",
        "import pprint\n",
        "from getpass import getpass\n",
        "# APIキーを指定\n",
        "api_key = getpass('APIキーを入力してください: ')\n",
        "\n",
        "# 検索キーワードを変数seach_stationに格納\n",
        "seach_station = input('検索する駅名を入力してください: ')\n",
        "\n",
        "\n",
        "#入力された駅の緯度経度を取得するAPIエンドポイントURL\n",
        "url = 'https://maps.googleapis.com/maps/api/geocode/json'\n",
        "\n",
        "#レストラン情報を取得するためのAPIエンドポイントURL\n",
        "url2='https://maps.googleapis.com/maps/api/place/nearbysearch/json'\n",
        "# データを取得\n",
        "response = requests.get(\n",
        "    url,\n",
        "    params={\n",
        "        'key': api_key,  # APIキーをパラメータに追加\n",
        "        'address': seach_station #駅名\n",
        "    }\n",
        ")\n",
        "\n",
        "# レスポンスのJSONを取得\n",
        "json_data = response.json()\n",
        "\n",
        "# JSONの中身を確認\n",
        "#pprint.pprint(json_data)\n",
        "\n",
        "\n",
        "for result in json_data['results']:\n",
        "  lat=result['geometry']['location']['lat']\n",
        "  lng=result['geometry']['location']['lng']\n",
        "  location=f'{lat},{lng}'\n",
        "\n",
        "json_data=None\n",
        "result=None\n",
        "\n",
        "response = requests.get(\n",
        "    url2,\n",
        "    params={\n",
        "        'key': api_key,\n",
        "        'location':location,\n",
        "        'language':'ja',\n",
        "        'radius':500,\n",
        "       'type':'restaurant'\n",
        "        }\n",
        ")\n",
        "json_data = response.json()\n",
        "\n",
        "for result in json_data['results']:\n",
        "  rname=result['name']\n",
        "  rrating=result['rating']\n",
        "  raddress=result['vicinity']\n",
        "  print(f'{rname}/☆{rrating}/{raddress}')\n"
      ]
    }
  ]
}